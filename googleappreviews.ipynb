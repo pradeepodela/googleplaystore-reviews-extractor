{
  "nbformat": 4,
  "nbformat_minor": 0,
  "metadata": {
    "colab": {
      "name": "googleappreviews.ipynb",
      "provenance": [],
      "collapsed_sections": [],
      "authorship_tag": "ABX9TyNCkDRtHxUIrUmCinHlIIre",
      "include_colab_link": true
    },
    "kernelspec": {
      "name": "python3",
      "display_name": "Python 3"
    },
    "language_info": {
      "name": "python"
    }
  },
  "cells": [
    {
      "cell_type": "markdown",
      "metadata": {
        "id": "view-in-github",
        "colab_type": "text"
      },
      "source": [
        "<a href=\"https://colab.research.google.com/github/pradeepodela/googleplaystore-reviews-extractor/blob/main/googleappreviews.ipynb\" target=\"_parent\"><img src=\"https://colab.research.google.com/assets/colab-badge.svg\" alt=\"Open In Colab\"/></a>"
      ]
    },
    {
      "cell_type": "code",
      "execution_count": 1,
      "metadata": {
        "colab": {
          "base_uri": "https://localhost:8080/"
        },
        "id": "xAowuUepDS5Y",
        "outputId": "c8989dd8-ac7c-43d2-ae05-8c6d726166ec"
      },
      "outputs": [
        {
          "output_type": "stream",
          "name": "stdout",
          "text": [
            "Collecting google-play-scraper\n",
            "  Downloading google-play-scraper-1.0.3.tar.gz (52 kB)\n",
            "\u001b[?25l\r\u001b[K     |██████▏                         | 10 kB 25.6 MB/s eta 0:00:01\r\u001b[K     |████████████▍                   | 20 kB 13.7 MB/s eta 0:00:01\r\u001b[K     |██████████████████▋             | 30 kB 10.3 MB/s eta 0:00:01\r\u001b[K     |████████████████████████▉       | 40 kB 9.2 MB/s eta 0:00:01\r\u001b[K     |███████████████████████████████ | 51 kB 5.7 MB/s eta 0:00:01\r\u001b[K     |████████████████████████████████| 52 kB 1.1 MB/s \n",
            "\u001b[?25hBuilding wheels for collected packages: google-play-scraper\n",
            "  Building wheel for google-play-scraper (setup.py) ... \u001b[?25l\u001b[?25hdone\n",
            "  Created wheel for google-play-scraper: filename=google_play_scraper-1.0.3-py3-none-any.whl size=24394 sha256=f59d2d7a83bd9bd0eacb957195520249e4bb68c0e3615fda2f9d01d63b5cc3d1\n",
            "  Stored in directory: /root/.cache/pip/wheels/81/37/0b/4a14be55b449a048cd93d79930b1a980dee7896480defa1923\n",
            "Successfully built google-play-scraper\n",
            "Installing collected packages: google-play-scraper\n",
            "Successfully installed google-play-scraper-1.0.3\n"
          ]
        }
      ],
      "source": [
        "!pip install google-play-scraper"
      ]
    },
    {
      "cell_type": "code",
      "source": [
        "from google_play_scraper import app\n",
        "import pandas as pd\n",
        "import matplotlib.pyplot as plt\n",
        "import numpy as np\n",
        "from google_play_scraper import Sort, reviews_all"
      ],
      "metadata": {
        "id": "dkpc_pKlDXht"
      },
      "execution_count": 26,
      "outputs": []
    },
    {
      "cell_type": "code",
      "source": [
        "from google.colab import drive\n",
        "drive.mount('/content/drive')"
      ],
      "metadata": {
        "colab": {
          "base_uri": "https://localhost:8080/"
        },
        "id": "o1i44W7XXYop",
        "outputId": "d91f7436-eaa3-4553-e065-6941eca7bd1a"
      },
      "execution_count": 91,
      "outputs": [
        {
          "output_type": "stream",
          "name": "stdout",
          "text": [
            "Mounted at /content/drive\n"
          ]
        }
      ]
    },
    {
      "cell_type": "code",
      "source": [
        "!cd sample_data"
      ],
      "metadata": {
        "id": "EMTTWizQZB3u"
      },
      "execution_count": 105,
      "outputs": []
    },
    {
      "cell_type": "code",
      "source": [
        "%ls"
      ],
      "metadata": {
        "colab": {
          "base_uri": "https://localhost:8080/"
        },
        "id": "SuVg4PZvZJYb",
        "outputId": "ef12970c-4a4f-49ed-acea-b0f142c344ba"
      },
      "execution_count": 106,
      "outputs": [
        {
          "output_type": "stream",
          "name": "stdout",
          "text": [
            "\u001b[0m\u001b[01;34mdrive\u001b[0m/  \u001b[01;34msample_data\u001b[0m/\n"
          ]
        }
      ]
    },
    {
      "cell_type": "code",
      "source": [
        "us_reviews = reviews_all(\n",
        "    'fit.cure.android',\n",
        "    sleep_milliseconds=0, # defaults to 0\n",
        "    lang='en', # defaults to 'en'\n",
        "    country='In', # defaults to 'us'\n",
        "    sort=Sort.NEWEST, # defaults to Sort.MOST_RELEVANT\n",
        ")"
      ],
      "metadata": {
        "id": "e5pHKqxKDjd_"
      },
      "execution_count": 7,
      "outputs": []
    },
    {
      "cell_type": "code",
      "source": [
        "df_busu = pd.DataFrame(np.array(us_reviews),columns=['review'])\n",
        "df = df_busu.join(pd.DataFrame(df_busu.pop('review').tolist()))\n",
        "df.head()"
      ],
      "metadata": {
        "colab": {
          "base_uri": "https://localhost:8080/",
          "height": 530
        },
        "id": "_OXMFxZBDxj8",
        "outputId": "79ba799a-c473-403a-f376-02acb19a0345"
      },
      "execution_count": 9,
      "outputs": [
        {
          "output_type": "execute_result",
          "data": {
            "text/html": [
              "\n",
              "  <div id=\"df-8afbfda0-ac20-4ee1-af0e-ec8152e7a250\">\n",
              "    <div class=\"colab-df-container\">\n",
              "      <div>\n",
              "<style scoped>\n",
              "    .dataframe tbody tr th:only-of-type {\n",
              "        vertical-align: middle;\n",
              "    }\n",
              "\n",
              "    .dataframe tbody tr th {\n",
              "        vertical-align: top;\n",
              "    }\n",
              "\n",
              "    .dataframe thead th {\n",
              "        text-align: right;\n",
              "    }\n",
              "</style>\n",
              "<table border=\"1\" class=\"dataframe\">\n",
              "  <thead>\n",
              "    <tr style=\"text-align: right;\">\n",
              "      <th></th>\n",
              "      <th>reviewId</th>\n",
              "      <th>userName</th>\n",
              "      <th>userImage</th>\n",
              "      <th>content</th>\n",
              "      <th>score</th>\n",
              "      <th>thumbsUpCount</th>\n",
              "      <th>reviewCreatedVersion</th>\n",
              "      <th>at</th>\n",
              "      <th>replyContent</th>\n",
              "      <th>repliedAt</th>\n",
              "    </tr>\n",
              "  </thead>\n",
              "  <tbody>\n",
              "    <tr>\n",
              "      <th>0</th>\n",
              "      <td>gp:AOqpTOEXoIVWzigA18LCuwdWVcII8VQ733lPoRA-LaV...</td>\n",
              "      <td>shriram raman</td>\n",
              "      <td>https://play-lh.googleusercontent.com/a/AATXAJ...</td>\n",
              "      <td>Love the intensity and the structure of their ...</td>\n",
              "      <td>5</td>\n",
              "      <td>0</td>\n",
              "      <td>9.26</td>\n",
              "      <td>2022-01-19 15:51:53</td>\n",
              "      <td>Thank you very much for your 5-star review!!!</td>\n",
              "      <td>2022-01-19 16:04:05</td>\n",
              "    </tr>\n",
              "    <tr>\n",
              "      <th>1</th>\n",
              "      <td>gp:AOqpTOHaprkJKalVSoyvIQuTB5nG5fSe751igwW4WDp...</td>\n",
              "      <td>shashank shekhar</td>\n",
              "      <td>https://play-lh.googleusercontent.com/a-/AOh14...</td>\n",
              "      <td>The experience for consulting dietician was wo...</td>\n",
              "      <td>5</td>\n",
              "      <td>0</td>\n",
              "      <td>9.26</td>\n",
              "      <td>2022-01-19 15:25:13</td>\n",
              "      <td>Thank you for your encouraging words.</td>\n",
              "      <td>2022-01-19 15:26:50</td>\n",
              "    </tr>\n",
              "    <tr>\n",
              "      <th>2</th>\n",
              "      <td>gp:AOqpTOGrCnZPDfcM1y5jtLvSDSRXyCUBvh9wmncIBBT...</td>\n",
              "      <td>Sachin Sharma</td>\n",
              "      <td>https://play-lh.googleusercontent.com/a-/AOh14...</td>\n",
              "      <td>It was a pleasure to work with my dietician! S...</td>\n",
              "      <td>5</td>\n",
              "      <td>0</td>\n",
              "      <td>None</td>\n",
              "      <td>2022-01-19 12:05:39</td>\n",
              "      <td>Dear User, thank you very much for sharing you...</td>\n",
              "      <td>2022-01-19 12:00:58</td>\n",
              "    </tr>\n",
              "    <tr>\n",
              "      <th>3</th>\n",
              "      <td>gp:AOqpTOH59h79JZ4MlghEEkzNz8Rh_u9qhH8oi7p8WBX...</td>\n",
              "      <td>Rajendra Kumar</td>\n",
              "      <td>https://play-lh.googleusercontent.com/a-/AOh14...</td>\n",
              "      <td>Rajendar kumar</td>\n",
              "      <td>4</td>\n",
              "      <td>0</td>\n",
              "      <td>None</td>\n",
              "      <td>2022-01-19 09:48:31</td>\n",
              "      <td>None</td>\n",
              "      <td>NaT</td>\n",
              "    </tr>\n",
              "    <tr>\n",
              "      <th>4</th>\n",
              "      <td>gp:AOqpTOEUTC3UROBlcpX5bVqMCdd86PXrHjpOO3-3NGb...</td>\n",
              "      <td>Shubh Upadhyay</td>\n",
              "      <td>https://play-lh.googleusercontent.com/a-/AOh14...</td>\n",
              "      <td>Do not believe in their advertising..these guy...</td>\n",
              "      <td>1</td>\n",
              "      <td>0</td>\n",
              "      <td>None</td>\n",
              "      <td>2022-01-19 07:52:56</td>\n",
              "      <td>Dear User,\\nWe apologize for the issue. Could ...</td>\n",
              "      <td>2022-01-19 07:57:32</td>\n",
              "    </tr>\n",
              "  </tbody>\n",
              "</table>\n",
              "</div>\n",
              "      <button class=\"colab-df-convert\" onclick=\"convertToInteractive('df-8afbfda0-ac20-4ee1-af0e-ec8152e7a250')\"\n",
              "              title=\"Convert this dataframe to an interactive table.\"\n",
              "              style=\"display:none;\">\n",
              "        \n",
              "  <svg xmlns=\"http://www.w3.org/2000/svg\" height=\"24px\"viewBox=\"0 0 24 24\"\n",
              "       width=\"24px\">\n",
              "    <path d=\"M0 0h24v24H0V0z\" fill=\"none\"/>\n",
              "    <path d=\"M18.56 5.44l.94 2.06.94-2.06 2.06-.94-2.06-.94-.94-2.06-.94 2.06-2.06.94zm-11 1L8.5 8.5l.94-2.06 2.06-.94-2.06-.94L8.5 2.5l-.94 2.06-2.06.94zm10 10l.94 2.06.94-2.06 2.06-.94-2.06-.94-.94-2.06-.94 2.06-2.06.94z\"/><path d=\"M17.41 7.96l-1.37-1.37c-.4-.4-.92-.59-1.43-.59-.52 0-1.04.2-1.43.59L10.3 9.45l-7.72 7.72c-.78.78-.78 2.05 0 2.83L4 21.41c.39.39.9.59 1.41.59.51 0 1.02-.2 1.41-.59l7.78-7.78 2.81-2.81c.8-.78.8-2.07 0-2.86zM5.41 20L4 18.59l7.72-7.72 1.47 1.35L5.41 20z\"/>\n",
              "  </svg>\n",
              "      </button>\n",
              "      \n",
              "  <style>\n",
              "    .colab-df-container {\n",
              "      display:flex;\n",
              "      flex-wrap:wrap;\n",
              "      gap: 12px;\n",
              "    }\n",
              "\n",
              "    .colab-df-convert {\n",
              "      background-color: #E8F0FE;\n",
              "      border: none;\n",
              "      border-radius: 50%;\n",
              "      cursor: pointer;\n",
              "      display: none;\n",
              "      fill: #1967D2;\n",
              "      height: 32px;\n",
              "      padding: 0 0 0 0;\n",
              "      width: 32px;\n",
              "    }\n",
              "\n",
              "    .colab-df-convert:hover {\n",
              "      background-color: #E2EBFA;\n",
              "      box-shadow: 0px 1px 2px rgba(60, 64, 67, 0.3), 0px 1px 3px 1px rgba(60, 64, 67, 0.15);\n",
              "      fill: #174EA6;\n",
              "    }\n",
              "\n",
              "    [theme=dark] .colab-df-convert {\n",
              "      background-color: #3B4455;\n",
              "      fill: #D2E3FC;\n",
              "    }\n",
              "\n",
              "    [theme=dark] .colab-df-convert:hover {\n",
              "      background-color: #434B5C;\n",
              "      box-shadow: 0px 1px 3px 1px rgba(0, 0, 0, 0.15);\n",
              "      filter: drop-shadow(0px 1px 2px rgba(0, 0, 0, 0.3));\n",
              "      fill: #FFFFFF;\n",
              "    }\n",
              "  </style>\n",
              "\n",
              "      <script>\n",
              "        const buttonEl =\n",
              "          document.querySelector('#df-8afbfda0-ac20-4ee1-af0e-ec8152e7a250 button.colab-df-convert');\n",
              "        buttonEl.style.display =\n",
              "          google.colab.kernel.accessAllowed ? 'block' : 'none';\n",
              "\n",
              "        async function convertToInteractive(key) {\n",
              "          const element = document.querySelector('#df-8afbfda0-ac20-4ee1-af0e-ec8152e7a250');\n",
              "          const dataTable =\n",
              "            await google.colab.kernel.invokeFunction('convertToInteractive',\n",
              "                                                     [key], {});\n",
              "          if (!dataTable) return;\n",
              "\n",
              "          const docLinkHtml = 'Like what you see? Visit the ' +\n",
              "            '<a target=\"_blank\" href=https://colab.research.google.com/notebooks/data_table.ipynb>data table notebook</a>'\n",
              "            + ' to learn more about interactive tables.';\n",
              "          element.innerHTML = '';\n",
              "          dataTable['output_type'] = 'display_data';\n",
              "          await google.colab.output.renderOutput(dataTable, element);\n",
              "          const docLink = document.createElement('div');\n",
              "          docLink.innerHTML = docLinkHtml;\n",
              "          element.appendChild(docLink);\n",
              "        }\n",
              "      </script>\n",
              "    </div>\n",
              "  </div>\n",
              "  "
            ],
            "text/plain": [
              "                                            reviewId  ...           repliedAt\n",
              "0  gp:AOqpTOEXoIVWzigA18LCuwdWVcII8VQ733lPoRA-LaV...  ... 2022-01-19 16:04:05\n",
              "1  gp:AOqpTOHaprkJKalVSoyvIQuTB5nG5fSe751igwW4WDp...  ... 2022-01-19 15:26:50\n",
              "2  gp:AOqpTOGrCnZPDfcM1y5jtLvSDSRXyCUBvh9wmncIBBT...  ... 2022-01-19 12:00:58\n",
              "3  gp:AOqpTOH59h79JZ4MlghEEkzNz8Rh_u9qhH8oi7p8WBX...  ...                 NaT\n",
              "4  gp:AOqpTOEUTC3UROBlcpX5bVqMCdd86PXrHjpOO3-3NGb...  ... 2022-01-19 07:57:32\n",
              "\n",
              "[5 rows x 10 columns]"
            ]
          },
          "metadata": {},
          "execution_count": 9
        }
      ]
    },
    {
      "cell_type": "code",
      "source": [
        "print('**************************')\n",
        "print('Total unique value counts')\n",
        "print(df.score.value_counts())\n",
        "print('**************************')\n",
        "print('shape of the data frame = ' , df.shape)\n",
        "print('**************************')"
      ],
      "metadata": {
        "colab": {
          "base_uri": "https://localhost:8080/"
        },
        "id": "wl-fzve-D3zS",
        "outputId": "0c06d730-a81d-43d6-dfdb-b53fb73ac5a4"
      },
      "execution_count": 51,
      "outputs": [
        {
          "output_type": "stream",
          "name": "stdout",
          "text": [
            "**************************\n",
            "Total unique value counts\n",
            "5    18234\n",
            "1     3545\n",
            "4     2487\n",
            "3      872\n",
            "2      699\n",
            "Name: score, dtype: int64\n",
            "**************************\n",
            "shape of the data frame =  (25837, 10)\n",
            "**************************\n"
          ]
        }
      ]
    },
    {
      "cell_type": "code",
      "source": [
        "grouped = df.groupby(df.score)\n",
        "five_star = grouped.get_group(5)\n",
        "four_star = grouped.get_group(4)\n",
        "three_star = grouped.get_group(3)\n",
        "two_star = grouped.get_group(2)\n",
        "one_star = grouped.get_group(1)"
      ],
      "metadata": {
        "id": "l-X_aTX0Ez5P"
      },
      "execution_count": 92,
      "outputs": []
    },
    {
      "cell_type": "code",
      "source": [
        "# saving the dataframe\n",
        "df.to_csv('/content/drive/MyDrive/reviewsdata/cult_fit_reviews.csv')\n",
        "one_star.to_csv('/content/drive/MyDrive/reviewsdata/cultfit_1star_reviews.csv')\n",
        "two_star.to_csv('/content/drive/MyDrive/reviewsdata/cultfit_2star_reviews.csv')\n",
        "three_star.to_csv('/content/drive/MyDrive/reviewsdata/cultfit_3star_reviews.csv')\n",
        "four_star.to_csv('/content/drive/MyDrive/reviewsdata/cultfit_4star_reviews.csv')\n",
        "five_star.to_csv('/content/drive/MyDrive/reviewsdata/cultfit_5star_reviews.csv')"
      ],
      "metadata": {
        "id": "4uYyNnS8YmW4"
      },
      "execution_count": 108,
      "outputs": []
    },
    {
      "cell_type": "code",
      "source": [
        "print(five_star.shape)\n",
        "five_star.head()"
      ],
      "metadata": {
        "colab": {
          "base_uri": "https://localhost:8080/",
          "height": 669
        },
        "id": "lVZ55dBgIlLV",
        "outputId": "8c6659a8-e2c0-42d4-9f83-ea1dc7722663"
      },
      "execution_count": 80,
      "outputs": [
        {
          "output_type": "stream",
          "name": "stdout",
          "text": [
            "(18234, 10)\n"
          ]
        },
        {
          "output_type": "execute_result",
          "data": {
            "text/html": [
              "\n",
              "  <div id=\"df-7e27daf2-17ab-480b-9bb7-f076899c6b0c\">\n",
              "    <div class=\"colab-df-container\">\n",
              "      <div>\n",
              "<style scoped>\n",
              "    .dataframe tbody tr th:only-of-type {\n",
              "        vertical-align: middle;\n",
              "    }\n",
              "\n",
              "    .dataframe tbody tr th {\n",
              "        vertical-align: top;\n",
              "    }\n",
              "\n",
              "    .dataframe thead th {\n",
              "        text-align: right;\n",
              "    }\n",
              "</style>\n",
              "<table border=\"1\" class=\"dataframe\">\n",
              "  <thead>\n",
              "    <tr style=\"text-align: right;\">\n",
              "      <th></th>\n",
              "      <th>reviewId</th>\n",
              "      <th>userName</th>\n",
              "      <th>userImage</th>\n",
              "      <th>content</th>\n",
              "      <th>score</th>\n",
              "      <th>thumbsUpCount</th>\n",
              "      <th>reviewCreatedVersion</th>\n",
              "      <th>at</th>\n",
              "      <th>replyContent</th>\n",
              "      <th>repliedAt</th>\n",
              "    </tr>\n",
              "  </thead>\n",
              "  <tbody>\n",
              "    <tr>\n",
              "      <th>0</th>\n",
              "      <td>gp:AOqpTOEXoIVWzigA18LCuwdWVcII8VQ733lPoRA-LaV...</td>\n",
              "      <td>shriram raman</td>\n",
              "      <td>https://play-lh.googleusercontent.com/a/AATXAJ...</td>\n",
              "      <td>Love the intensity and the structure of their ...</td>\n",
              "      <td>5</td>\n",
              "      <td>0</td>\n",
              "      <td>9.26</td>\n",
              "      <td>2022-01-19 15:51:53</td>\n",
              "      <td>Thank you very much for your 5-star review!!!</td>\n",
              "      <td>2022-01-19 16:04:05</td>\n",
              "    </tr>\n",
              "    <tr>\n",
              "      <th>1</th>\n",
              "      <td>gp:AOqpTOHaprkJKalVSoyvIQuTB5nG5fSe751igwW4WDp...</td>\n",
              "      <td>shashank shekhar</td>\n",
              "      <td>https://play-lh.googleusercontent.com/a-/AOh14...</td>\n",
              "      <td>The experience for consulting dietician was wo...</td>\n",
              "      <td>5</td>\n",
              "      <td>0</td>\n",
              "      <td>9.26</td>\n",
              "      <td>2022-01-19 15:25:13</td>\n",
              "      <td>Thank you for your encouraging words.</td>\n",
              "      <td>2022-01-19 15:26:50</td>\n",
              "    </tr>\n",
              "    <tr>\n",
              "      <th>2</th>\n",
              "      <td>gp:AOqpTOGrCnZPDfcM1y5jtLvSDSRXyCUBvh9wmncIBBT...</td>\n",
              "      <td>Sachin Sharma</td>\n",
              "      <td>https://play-lh.googleusercontent.com/a-/AOh14...</td>\n",
              "      <td>It was a pleasure to work with my dietician! S...</td>\n",
              "      <td>5</td>\n",
              "      <td>0</td>\n",
              "      <td>None</td>\n",
              "      <td>2022-01-19 12:05:39</td>\n",
              "      <td>Dear User, thank you very much for sharing you...</td>\n",
              "      <td>2022-01-19 12:00:58</td>\n",
              "    </tr>\n",
              "    <tr>\n",
              "      <th>8</th>\n",
              "      <td>gp:AOqpTOEPGPgUyc7Atbo1RbG0kNUAgmK2zDKiW0CkkzT...</td>\n",
              "      <td>VISWESWAR REDDY</td>\n",
              "      <td>https://play-lh.googleusercontent.com/a/AATXAJ...</td>\n",
              "      <td>With a lot of variety of workout regimes, cult...</td>\n",
              "      <td>5</td>\n",
              "      <td>0</td>\n",
              "      <td>8.90</td>\n",
              "      <td>2022-01-18 04:23:01</td>\n",
              "      <td>Thank you for a detailed review bud, we apprec...</td>\n",
              "      <td>2022-01-18 04:31:48</td>\n",
              "    </tr>\n",
              "    <tr>\n",
              "      <th>9</th>\n",
              "      <td>gp:AOqpTOFFAP992Fvyf9FJ87dDCAvCgPO_dzfiDth-r1K...</td>\n",
              "      <td>Rohan Chhatre</td>\n",
              "      <td>https://play-lh.googleusercontent.com/a-/AOh14...</td>\n",
              "      <td>fantastic app. great workouts. fabulous trainers!</td>\n",
              "      <td>5</td>\n",
              "      <td>0</td>\n",
              "      <td>9.26</td>\n",
              "      <td>2022-01-18 03:03:34</td>\n",
              "      <td>It is delightful to hear such positive words a...</td>\n",
              "      <td>2022-01-18 03:09:53</td>\n",
              "    </tr>\n",
              "  </tbody>\n",
              "</table>\n",
              "</div>\n",
              "      <button class=\"colab-df-convert\" onclick=\"convertToInteractive('df-7e27daf2-17ab-480b-9bb7-f076899c6b0c')\"\n",
              "              title=\"Convert this dataframe to an interactive table.\"\n",
              "              style=\"display:none;\">\n",
              "        \n",
              "  <svg xmlns=\"http://www.w3.org/2000/svg\" height=\"24px\"viewBox=\"0 0 24 24\"\n",
              "       width=\"24px\">\n",
              "    <path d=\"M0 0h24v24H0V0z\" fill=\"none\"/>\n",
              "    <path d=\"M18.56 5.44l.94 2.06.94-2.06 2.06-.94-2.06-.94-.94-2.06-.94 2.06-2.06.94zm-11 1L8.5 8.5l.94-2.06 2.06-.94-2.06-.94L8.5 2.5l-.94 2.06-2.06.94zm10 10l.94 2.06.94-2.06 2.06-.94-2.06-.94-.94-2.06-.94 2.06-2.06.94z\"/><path d=\"M17.41 7.96l-1.37-1.37c-.4-.4-.92-.59-1.43-.59-.52 0-1.04.2-1.43.59L10.3 9.45l-7.72 7.72c-.78.78-.78 2.05 0 2.83L4 21.41c.39.39.9.59 1.41.59.51 0 1.02-.2 1.41-.59l7.78-7.78 2.81-2.81c.8-.78.8-2.07 0-2.86zM5.41 20L4 18.59l7.72-7.72 1.47 1.35L5.41 20z\"/>\n",
              "  </svg>\n",
              "      </button>\n",
              "      \n",
              "  <style>\n",
              "    .colab-df-container {\n",
              "      display:flex;\n",
              "      flex-wrap:wrap;\n",
              "      gap: 12px;\n",
              "    }\n",
              "\n",
              "    .colab-df-convert {\n",
              "      background-color: #E8F0FE;\n",
              "      border: none;\n",
              "      border-radius: 50%;\n",
              "      cursor: pointer;\n",
              "      display: none;\n",
              "      fill: #1967D2;\n",
              "      height: 32px;\n",
              "      padding: 0 0 0 0;\n",
              "      width: 32px;\n",
              "    }\n",
              "\n",
              "    .colab-df-convert:hover {\n",
              "      background-color: #E2EBFA;\n",
              "      box-shadow: 0px 1px 2px rgba(60, 64, 67, 0.3), 0px 1px 3px 1px rgba(60, 64, 67, 0.15);\n",
              "      fill: #174EA6;\n",
              "    }\n",
              "\n",
              "    [theme=dark] .colab-df-convert {\n",
              "      background-color: #3B4455;\n",
              "      fill: #D2E3FC;\n",
              "    }\n",
              "\n",
              "    [theme=dark] .colab-df-convert:hover {\n",
              "      background-color: #434B5C;\n",
              "      box-shadow: 0px 1px 3px 1px rgba(0, 0, 0, 0.15);\n",
              "      filter: drop-shadow(0px 1px 2px rgba(0, 0, 0, 0.3));\n",
              "      fill: #FFFFFF;\n",
              "    }\n",
              "  </style>\n",
              "\n",
              "      <script>\n",
              "        const buttonEl =\n",
              "          document.querySelector('#df-7e27daf2-17ab-480b-9bb7-f076899c6b0c button.colab-df-convert');\n",
              "        buttonEl.style.display =\n",
              "          google.colab.kernel.accessAllowed ? 'block' : 'none';\n",
              "\n",
              "        async function convertToInteractive(key) {\n",
              "          const element = document.querySelector('#df-7e27daf2-17ab-480b-9bb7-f076899c6b0c');\n",
              "          const dataTable =\n",
              "            await google.colab.kernel.invokeFunction('convertToInteractive',\n",
              "                                                     [key], {});\n",
              "          if (!dataTable) return;\n",
              "\n",
              "          const docLinkHtml = 'Like what you see? Visit the ' +\n",
              "            '<a target=\"_blank\" href=https://colab.research.google.com/notebooks/data_table.ipynb>data table notebook</a>'\n",
              "            + ' to learn more about interactive tables.';\n",
              "          element.innerHTML = '';\n",
              "          dataTable['output_type'] = 'display_data';\n",
              "          await google.colab.output.renderOutput(dataTable, element);\n",
              "          const docLink = document.createElement('div');\n",
              "          docLink.innerHTML = docLinkHtml;\n",
              "          element.appendChild(docLink);\n",
              "        }\n",
              "      </script>\n",
              "    </div>\n",
              "  </div>\n",
              "  "
            ],
            "text/plain": [
              "                                            reviewId  ...           repliedAt\n",
              "0  gp:AOqpTOEXoIVWzigA18LCuwdWVcII8VQ733lPoRA-LaV...  ... 2022-01-19 16:04:05\n",
              "1  gp:AOqpTOHaprkJKalVSoyvIQuTB5nG5fSe751igwW4WDp...  ... 2022-01-19 15:26:50\n",
              "2  gp:AOqpTOGrCnZPDfcM1y5jtLvSDSRXyCUBvh9wmncIBBT...  ... 2022-01-19 12:00:58\n",
              "8  gp:AOqpTOEPGPgUyc7Atbo1RbG0kNUAgmK2zDKiW0CkkzT...  ... 2022-01-18 04:31:48\n",
              "9  gp:AOqpTOFFAP992Fvyf9FJ87dDCAvCgPO_dzfiDth-r1K...  ... 2022-01-18 03:09:53\n",
              "\n",
              "[5 rows x 10 columns]"
            ]
          },
          "metadata": {},
          "execution_count": 80
        }
      ]
    },
    {
      "cell_type": "code",
      "source": [
        ""
      ],
      "metadata": {
        "id": "3edax6riXSJC"
      },
      "execution_count": null,
      "outputs": []
    },
    {
      "cell_type": "code",
      "source": [
        "y = np.array([18234, 3545, 2487, 872,699])\n",
        "mylabels = ['5 star','1 star','4 star','3 star','2 star']\n",
        "plt.pie(y,labels = mylabels)\n",
        "plt.show() "
      ],
      "metadata": {
        "colab": {
          "base_uri": "https://localhost:8080/",
          "height": 248
        },
        "id": "iC1qbbXsTKTz",
        "outputId": "fbd500bb-b1ab-4279-b312-1a47fc3e3ca1"
      },
      "execution_count": 90,
      "outputs": [
        {
          "output_type": "display_data",
          "data": {
            "image/png": "[encoded data removed]",
            "text/plain": [
              "<Figure size 432x288 with 1 Axes>"
            ]
          },
          "metadata": {}
        }
      ]
    },
    {
      "cell_type": "code",
      "source": [
        ""
      ],
      "metadata": {
        "id": "_iwQTKTkWd6u"
      },
      "execution_count": null,
      "outputs": []
    }
  ]
}